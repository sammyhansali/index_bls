{
 "cells": [
  {
   "cell_type": "code",
   "execution_count": null,
   "id": "c43bfbbd",
   "metadata": {},
   "outputs": [
    {
     "name": "stdout",
     "output_type": "stream",
     "text": [
      "shape: (279_383, 5)\n",
      "┌─────────────┬──────┬────────┬─────────┬────────────────┐\n",
      "│ series_id   ┆ year ┆ period ┆ value   ┆ footnote_codes │\n",
      "│ ---         ┆ ---  ┆ ---    ┆ ---     ┆ ---            │\n",
      "│ str         ┆ i64  ┆ str    ┆ f64     ┆ str            │\n",
      "╞═════════════╪══════╪════════╪═════════╪════════════════╡\n",
      "│ CUSR0000SA0 ┆ 1947 ┆ M01    ┆ 21.48   ┆ null           │\n",
      "│ CUSR0000SA0 ┆ 1947 ┆ M02    ┆ 21.62   ┆ null           │\n",
      "│ CUSR0000SA0 ┆ 1947 ┆ M03    ┆ 22.0    ┆ null           │\n",
      "│ CUSR0000SA0 ┆ 1947 ┆ M04    ┆ 22.0    ┆ null           │\n",
      "│ CUSR0000SA0 ┆ 1947 ┆ M05    ┆ 21.95   ┆ null           │\n",
      "│ …           ┆ …    ┆ …      ┆ …       ┆ …              │\n",
      "│ CUUSS49GSAT ┆ 2023 ┆ S03    ┆ 288.728 ┆ null           │\n",
      "│ CUUSS49GSAT ┆ 2024 ┆ S01    ┆ 283.271 ┆ null           │\n",
      "│ CUUSS49GSAT ┆ 2024 ┆ S02    ┆ 282.552 ┆ null           │\n",
      "│ CUUSS49GSAT ┆ 2024 ┆ S03    ┆ 282.911 ┆ null           │\n",
      "│ CUUSS49GSAT ┆ 2025 ┆ S01    ┆ 278.798 ┆ null           │\n",
      "└─────────────┴──────┴────────┴─────────┴────────────────┘\n"
     ]
    }
   ],
   "source": [
    "import requests\n",
    "import polars as pl\n",
    "from io import StringIO\n",
    "\n",
    "api = \"https://download.bls.gov/pub/time.series\"\n",
    "endpoints = {\n",
    "    \"ConsumerPriceApparelData\": \"cu/cu.data.2.Summaries\",\n",
    "    \"ConsumerPriceHousingData\": \"cu/cu.data.12.USHousing\",\n",
    "    \"ConsumerPriceMedicalData\": \"cu/cu.data.15.USMedical\",\n",
    "    \"ConsumerPriceRecreationData\": \"cu/cu.data.16.USRecreation\",\n",
    "    \"ProducerPriceData\": \"wp/wp.data.22.FD-ID\",\n",
    "}\n",
    "headers = {\n",
    "    \"User-Agent\": (\n",
    "        \"Mozilla/5.0 (Windows NT 10.0; Win64; x64) \"\n",
    "        \"AppleWebKit/537.36 (KHTML, like Gecko) \"\n",
    "        \"Chrome/124.0 Safari/537.36\"\n",
    "    )\n",
    "}\n",
    "\n",
    "series_ids = {\n",
    "    \"ConsumerPriceApparelData\": {\n",
    "        \"Apparel\": [\n",
    "            \"CUUR0000SAA\",\n",
    "            \"CUSR0000SAA\",\n",
    "        ],\n",
    "    },\n",
    "    \"ConsumerPriceHousingData\": {\n",
    "        \"Household Furnishings and Operations\": [\n",
    "            \"CUUR0000SAH3\",\n",
    "            \"CUSR0000SAH3\",\n",
    "        ],\n",
    "    },\n",
    "    \"ConsumerPriceMedicalData\": {\n",
    "        \"Physicians' Services\": [\n",
    "            \"CUUR0000SEMC01\",\n",
    "            \"CUSR0000SEMC01\",\n",
    "        ],\n",
    "        \"Hospital Services\": [\n",
    "            \"CUUR0000SEMD01\",\n",
    "            \"CUSR0000SEMD01\",\n",
    "        ],\n",
    "        \"Medical Care Commodities\": [\n",
    "            \"CUUR0000SAM1\",\n",
    "            \"CUSR0000SAM1\",\n",
    "        ],\n",
    "    },\n",
    "    \"ConsumerPriceRecreationData\": {\n",
    "        \"Recreation\": [\n",
    "            \"CUUR0000SAR\",\n",
    "            \"CUSR0000SAR\",\n",
    "        ],\n",
    "    },\n",
    "    \"ProducerPriceData\": {\n",
    "        \"Finished Goods Less Energy\": [\n",
    "            \"WPUFD49208\",\n",
    "            \"WPSFD49208\",\n",
    "        ],\n",
    "        \"Finished Goods Less Food and Energy\": [\n",
    "            \"WPUFD4131\",\n",
    "            \"WPSFD4131\",\n",
    "        ],\n",
    "    },\n",
    "}\n",
    "\n",
    "categories = endpoints.keys()\n",
    "for cat in categories:\n",
    "    url = f\"{api}/{endpoints[cat]}\"\n",
    "\n",
    "    try:\n",
    "        response = requests.get(url, headers=headers)\n",
    "        response.raise_for_status()\n",
    "\n",
    "        text=\"\\n\".join([\" \".join(line.split()) for line in response.text.splitlines()])\n",
    "        df = pl.read_csv(StringIO(text), separator=\" \")\n",
    "        print(df)\n",
    "    except:\n",
    "        print(response.status_code)"
   ]
  },
  {
   "cell_type": "code",
   "execution_count": 2,
   "id": "f1da3969",
   "metadata": {},
   "outputs": [
    {
     "data": {
      "text/plain": [
       "['M01',\n",
       " 'M02',\n",
       " 'M03',\n",
       " 'M04',\n",
       " 'M05',\n",
       " 'M06',\n",
       " 'M07',\n",
       " 'M08',\n",
       " 'M09',\n",
       " 'M10',\n",
       " 'M11',\n",
       " 'M12',\n",
       " 'M13',\n",
       " 'S01',\n",
       " 'S02',\n",
       " 'S03']"
      ]
     },
     "execution_count": 2,
     "metadata": {},
     "output_type": "execute_result"
    }
   ],
   "source": [
    "sorted(df['period'].unique().to_list())"
   ]
  },
  {
   "cell_type": "code",
   "execution_count": 10,
   "id": "6cf2a01c",
   "metadata": {},
   "outputs": [
    {
     "ename": "ColumnNotFoundError",
     "evalue": "unable to find column \"CUUR0000SAA\"; valid columns: [\"year\", \"period\", \"date\", \"MonthName\"]",
     "output_type": "error",
     "traceback": [
      "\u001b[31m---------------------------------------------------------------------------\u001b[39m",
      "\u001b[31mColumnNotFoundError\u001b[39m                       Traceback (most recent call last)",
      "\u001b[36mCell\u001b[39m\u001b[36m \u001b[39m\u001b[32mIn[10]\u001b[39m\u001b[32m, line 25\u001b[39m\n\u001b[32m      1\u001b[39m df1 = \u001b[43mdf\u001b[49m\u001b[43m.\u001b[49m\u001b[43mfilter\u001b[49m\u001b[43m(\u001b[49m\u001b[32;43m1\u001b[39;49m\u001b[43m==\u001b[49m\u001b[32;43m1\u001b[39;49m\u001b[43m)\u001b[49m\u001b[43m \u001b[49m\u001b[43m\\\u001b[49m\n\u001b[32m      2\u001b[39m \u001b[43m    \u001b[49m\u001b[43m.\u001b[49m\u001b[43mfilter\u001b[49m\u001b[43m(\u001b[49m\n\u001b[32m      3\u001b[39m \u001b[43m        \u001b[49m\u001b[43m(\u001b[49m\u001b[43mpl\u001b[49m\u001b[43m.\u001b[49m\u001b[43mcol\u001b[49m\u001b[43m(\u001b[49m\u001b[33;43m'\u001b[39;49m\u001b[33;43mperiod\u001b[39;49m\u001b[33;43m'\u001b[39;49m\u001b[43m)\u001b[49m\u001b[43m.\u001b[49m\u001b[43mstr\u001b[49m\u001b[43m.\u001b[49m\u001b[43mstarts_with\u001b[49m\u001b[43m(\u001b[49m\u001b[33;43m'\u001b[39;49m\u001b[33;43mS\u001b[39;49m\u001b[33;43m'\u001b[39;49m\u001b[43m)\u001b[49m\u001b[43m==\u001b[49m\u001b[38;5;28;43;01mFalse\u001b[39;49;00m\u001b[43m)\u001b[49m\n\u001b[32m      4\u001b[39m \u001b[43m        \u001b[49m\u001b[43m&\u001b[49m\u001b[43m \u001b[49m\u001b[43m(\u001b[49m\u001b[43mpl\u001b[49m\u001b[43m.\u001b[49m\u001b[43mcol\u001b[49m\u001b[43m(\u001b[49m\u001b[33;43m'\u001b[39;49m\u001b[33;43mperiod\u001b[39;49m\u001b[33;43m'\u001b[39;49m\u001b[43m)\u001b[49m\u001b[43m \u001b[49m\u001b[43m!=\u001b[49m\u001b[43m \u001b[49m\u001b[33;43m'\u001b[39;49m\u001b[33;43mM13\u001b[39;49m\u001b[33;43m'\u001b[39;49m\u001b[43m)\u001b[49m\n\u001b[32m      5\u001b[39m \u001b[43m    \u001b[49m\u001b[43m)\u001b[49m\u001b[43m \u001b[49m\u001b[43m\\\u001b[49m\n\u001b[32m      6\u001b[39m \u001b[43m    \u001b[49m\u001b[43m.\u001b[49m\u001b[43mwith_columns\u001b[49m\u001b[43m(\u001b[49m\n\u001b[32m      7\u001b[39m \u001b[43m        \u001b[49m\u001b[43mpl\u001b[49m\u001b[43m.\u001b[49m\u001b[43mcol\u001b[49m\u001b[43m(\u001b[49m\u001b[33;43m'\u001b[39;49m\u001b[33;43mperiod\u001b[39;49m\u001b[33;43m'\u001b[39;49m\u001b[43m)\u001b[49m\u001b[43m.\u001b[49m\u001b[43mstr\u001b[49m\u001b[43m.\u001b[49m\u001b[43mslice\u001b[49m\u001b[43m(\u001b[49m\u001b[43m-\u001b[49m\u001b[32;43m2\u001b[39;49m\u001b[43m)\u001b[49m\u001b[43m.\u001b[49m\u001b[43mcast\u001b[49m\u001b[43m(\u001b[49m\u001b[43mpl\u001b[49m\u001b[43m.\u001b[49m\u001b[43mInt8\u001b[49m\u001b[43m)\u001b[49m\n\u001b[32m      8\u001b[39m \u001b[43m    \u001b[49m\u001b[43m)\u001b[49m\u001b[43m \u001b[49m\u001b[43m\\\u001b[49m\n\u001b[32m      9\u001b[39m \u001b[43m    \u001b[49m\u001b[43m.\u001b[49m\u001b[43mwith_columns\u001b[49m\u001b[43m(\u001b[49m\n\u001b[32m     10\u001b[39m \u001b[43m        \u001b[49m\u001b[43mpl\u001b[49m\u001b[43m.\u001b[49m\u001b[43mdate\u001b[49m\u001b[43m(\u001b[49m\u001b[43mpl\u001b[49m\u001b[43m.\u001b[49m\u001b[43mcol\u001b[49m\u001b[43m(\u001b[49m\u001b[33;43m'\u001b[39;49m\u001b[33;43myear\u001b[39;49m\u001b[33;43m'\u001b[39;49m\u001b[43m)\u001b[49m\u001b[43m,\u001b[49m\u001b[43m \u001b[49m\u001b[43mpl\u001b[49m\u001b[43m.\u001b[49m\u001b[43mcol\u001b[49m\u001b[43m(\u001b[49m\u001b[33;43m'\u001b[39;49m\u001b[33;43mperiod\u001b[39;49m\u001b[33;43m'\u001b[39;49m\u001b[43m)\u001b[49m\u001b[43m,\u001b[49m\u001b[43m \u001b[49m\u001b[32;43m1\u001b[39;49m\u001b[43m)\u001b[49m\u001b[43m.\u001b[49m\u001b[43malias\u001b[49m\u001b[43m(\u001b[49m\u001b[33;43m'\u001b[39;49m\u001b[33;43mdate\u001b[39;49m\u001b[33;43m'\u001b[39;49m\u001b[43m)\u001b[49m\u001b[43m,\u001b[49m\n\u001b[32m     11\u001b[39m \u001b[43m    \u001b[49m\u001b[43m)\u001b[49m\u001b[43m \u001b[49m\u001b[43m\\\u001b[49m\n\u001b[32m     12\u001b[39m \u001b[43m    \u001b[49m\u001b[43m.\u001b[49m\u001b[43mwith_columns\u001b[49m\u001b[43m(\u001b[49m\n\u001b[32m     13\u001b[39m \u001b[43m        \u001b[49m\u001b[43mpl\u001b[49m\u001b[43m.\u001b[49m\u001b[43mcol\u001b[49m\u001b[43m(\u001b[49m\u001b[33;43m'\u001b[39;49m\u001b[33;43mdate\u001b[39;49m\u001b[33;43m'\u001b[39;49m\u001b[43m)\u001b[49m\u001b[43m.\u001b[49m\u001b[43mdt\u001b[49m\u001b[43m.\u001b[49m\u001b[43mstrftime\u001b[49m\u001b[43m(\u001b[49m\u001b[33;43m\"\u001b[39;49m\u001b[33;43m%\u001b[39;49m\u001b[33;43mB\u001b[39;49m\u001b[33;43m\"\u001b[39;49m\u001b[43m)\u001b[49m\u001b[43m.\u001b[49m\u001b[43malias\u001b[49m\u001b[43m(\u001b[49m\u001b[33;43m'\u001b[39;49m\u001b[33;43mMonthName\u001b[39;49m\u001b[33;43m'\u001b[39;49m\u001b[43m)\u001b[49m\u001b[43m,\u001b[49m\n\u001b[32m     14\u001b[39m \u001b[43m        \u001b[49m\u001b[43mpl\u001b[49m\u001b[43m.\u001b[49m\u001b[43mcol\u001b[49m\u001b[43m(\u001b[49m\u001b[33;43m'\u001b[39;49m\u001b[33;43mperiod\u001b[39;49m\u001b[33;43m'\u001b[39;49m\u001b[43m)\u001b[49m\u001b[38;5;66;43;03m#.cast(pl.String)\u001b[39;49;00m\n\u001b[32m     15\u001b[39m \u001b[43m    \u001b[49m\u001b[43m)\u001b[49m\u001b[43m \u001b[49m\u001b[43m\\\u001b[49m\n\u001b[32m     16\u001b[39m \u001b[43m    \u001b[49m\u001b[43m.\u001b[49m\u001b[43mfilter\u001b[49m\u001b[43m(\u001b[49m\n\u001b[32m     17\u001b[39m \u001b[43m        \u001b[49m\u001b[43m(\u001b[49m\u001b[32;43m1\u001b[39;49m\u001b[43m==\u001b[49m\u001b[32;43m1\u001b[39;49m\u001b[43m)\u001b[49m\n\u001b[32m     18\u001b[39m \u001b[43m        \u001b[49m\u001b[43m&\u001b[49m\u001b[43m \u001b[49m\u001b[43m(\u001b[49m\u001b[43mpl\u001b[49m\u001b[43m.\u001b[49m\u001b[43mcol\u001b[49m\u001b[43m(\u001b[49m\u001b[33;43m'\u001b[39;49m\u001b[33;43mdate\u001b[39;49m\u001b[33;43m'\u001b[39;49m\u001b[43m)\u001b[49m\u001b[43m \u001b[49m\u001b[43m>\u001b[49m\u001b[43m=\u001b[49m\u001b[43m \u001b[49m\u001b[43mpl\u001b[49m\u001b[43m.\u001b[49m\u001b[43mdate\u001b[49m\u001b[43m(\u001b[49m\u001b[32;43m1975\u001b[39;49m\u001b[43m,\u001b[49m\u001b[43m \u001b[49m\u001b[32;43m1\u001b[39;49m\u001b[43m,\u001b[49m\u001b[43m \u001b[49m\u001b[32;43m1\u001b[39;49m\u001b[43m)\u001b[49m\u001b[43m)\u001b[49m\u001b[43m \u001b[49m\n\u001b[32m     19\u001b[39m \u001b[43m        \u001b[49m\u001b[43m&\u001b[49m\u001b[43m \u001b[49m\u001b[43m(\u001b[49m\u001b[43mpl\u001b[49m\u001b[43m.\u001b[49m\u001b[43mcol\u001b[49m\u001b[43m(\u001b[49m\u001b[33;43m'\u001b[39;49m\u001b[33;43mseries_id\u001b[39;49m\u001b[33;43m'\u001b[39;49m\u001b[43m)\u001b[49m\u001b[43m.\u001b[49m\u001b[43mis_in\u001b[49m\u001b[43m(\u001b[49m\u001b[43m[\u001b[49m\u001b[33;43m'\u001b[39;49m\u001b[33;43mCUUR0000SAA\u001b[39;49m\u001b[33;43m'\u001b[39;49m\u001b[43m,\u001b[49m\u001b[33;43m'\u001b[39;49m\u001b[33;43mCUSR0000SAA\u001b[39;49m\u001b[33;43m'\u001b[39;49m\u001b[43m]\u001b[49m\u001b[43m)\u001b[49m\u001b[43m)\u001b[49m\n\u001b[32m     20\u001b[39m \u001b[43m    \u001b[49m\u001b[43m)\u001b[49m\u001b[43m \u001b[49m\u001b[43m\\\u001b[49m\n\u001b[32m     21\u001b[39m \u001b[43m    \u001b[49m\u001b[43m.\u001b[49m\u001b[43mgroup_by\u001b[49m\u001b[43m(\u001b[49m\u001b[43m[\u001b[49m\u001b[33;43m'\u001b[39;49m\u001b[33;43mseries_id\u001b[39;49m\u001b[33;43m'\u001b[39;49m\u001b[43m,\u001b[49m\u001b[43m \u001b[49m\u001b[33;43m'\u001b[39;49m\u001b[33;43myear\u001b[39;49m\u001b[33;43m'\u001b[39;49m\u001b[43m,\u001b[49m\u001b[43m \u001b[49m\u001b[33;43m'\u001b[39;49m\u001b[33;43mperiod\u001b[39;49m\u001b[33;43m'\u001b[39;49m\u001b[43m,\u001b[49m\u001b[43m \u001b[49m\u001b[33;43m'\u001b[39;49m\u001b[33;43mdate\u001b[39;49m\u001b[33;43m'\u001b[39;49m\u001b[43m,\u001b[49m\u001b[43m \u001b[49m\u001b[33;43m'\u001b[39;49m\u001b[33;43mMonthName\u001b[39;49m\u001b[33;43m'\u001b[39;49m\u001b[43m]\u001b[49m\u001b[43m)\u001b[49m\u001b[43m \u001b[49m\u001b[43m\\\u001b[49m\n\u001b[32m     22\u001b[39m \u001b[43m    \u001b[49m\u001b[43m.\u001b[49m\u001b[43magg\u001b[49m\u001b[43m(\u001b[49m\u001b[43mpl\u001b[49m\u001b[43m.\u001b[49m\u001b[43mmean\u001b[49m\u001b[43m(\u001b[49m\u001b[33;43m'\u001b[39;49m\u001b[33;43mvalue\u001b[39;49m\u001b[33;43m'\u001b[39;49m\u001b[43m)\u001b[49m\u001b[43m)\u001b[49m\u001b[43m \u001b[49m\u001b[43m\\\u001b[49m\n\u001b[32m     23\u001b[39m \u001b[43m    \u001b[49m\u001b[43m.\u001b[49m\u001b[43msort\u001b[49m\u001b[43m(\u001b[49m\u001b[43m[\u001b[49m\u001b[33;43m'\u001b[39;49m\u001b[33;43mseries_id\u001b[39;49m\u001b[33;43m'\u001b[39;49m\u001b[43m,\u001b[49m\u001b[43m \u001b[49m\u001b[33;43m'\u001b[39;49m\u001b[33;43myear\u001b[39;49m\u001b[33;43m'\u001b[39;49m\u001b[43m,\u001b[49m\u001b[43m \u001b[49m\u001b[33;43m'\u001b[39;49m\u001b[33;43mperiod\u001b[39;49m\u001b[33;43m'\u001b[39;49m\u001b[43m]\u001b[49m\u001b[43m)\u001b[49m\u001b[43m \u001b[49m\u001b[43m\\\u001b[49m\n\u001b[32m     24\u001b[39m \u001b[43m    \u001b[49m\u001b[43m.\u001b[49m\u001b[43mpivot\u001b[49m\u001b[43m(\u001b[49m\u001b[43mon\u001b[49m\u001b[43m=\u001b[49m\u001b[33;43m'\u001b[39;49m\u001b[33;43mseries_id\u001b[39;49m\u001b[33;43m'\u001b[39;49m\u001b[43m,\u001b[49m\u001b[43m \u001b[49m\u001b[43mindex\u001b[49m\u001b[43m=\u001b[49m\u001b[43m[\u001b[49m\u001b[33;43m'\u001b[39;49m\u001b[33;43myear\u001b[39;49m\u001b[33;43m'\u001b[39;49m\u001b[43m,\u001b[49m\u001b[43m \u001b[49m\u001b[33;43m'\u001b[39;49m\u001b[33;43mperiod\u001b[39;49m\u001b[33;43m'\u001b[39;49m\u001b[43m,\u001b[49m\u001b[43m \u001b[49m\u001b[33;43m'\u001b[39;49m\u001b[33;43mdate\u001b[39;49m\u001b[33;43m'\u001b[39;49m\u001b[43m,\u001b[49m\u001b[43m \u001b[49m\u001b[33;43m'\u001b[39;49m\u001b[33;43mMonthName\u001b[39;49m\u001b[33;43m'\u001b[39;49m\u001b[43m]\u001b[49m\u001b[43m,\u001b[49m\u001b[43m \u001b[49m\u001b[43mvalues\u001b[49m\u001b[43m=\u001b[49m\u001b[33;43m'\u001b[39;49m\u001b[33;43mvalue\u001b[39;49m\u001b[33;43m'\u001b[39;49m\u001b[43m)\u001b[49m\u001b[43m \u001b[49m\u001b[43m\\\u001b[49m\n\u001b[32m---> \u001b[39m\u001b[32m25\u001b[39m \u001b[43m    \u001b[49m\u001b[43m.\u001b[49m\u001b[43mselect\u001b[49m\u001b[43m(\u001b[49m\u001b[43m[\u001b[49m\u001b[33;43m'\u001b[39;49m\u001b[33;43myear\u001b[39;49m\u001b[33;43m'\u001b[39;49m\u001b[43m,\u001b[49m\u001b[43m \u001b[49m\u001b[33;43m'\u001b[39;49m\u001b[33;43mperiod\u001b[39;49m\u001b[33;43m'\u001b[39;49m\u001b[43m,\u001b[49m\u001b[43m \u001b[49m\u001b[33;43m'\u001b[39;49m\u001b[33;43mdate\u001b[39;49m\u001b[33;43m'\u001b[39;49m\u001b[43m,\u001b[49m\u001b[43m \u001b[49m\u001b[33;43m'\u001b[39;49m\u001b[33;43mMonthName\u001b[39;49m\u001b[33;43m'\u001b[39;49m\u001b[43m,\u001b[49m\u001b[43m \u001b[49m\u001b[33;43m'\u001b[39;49m\u001b[33;43mCUUR0000SAA\u001b[39;49m\u001b[33;43m'\u001b[39;49m\u001b[43m,\u001b[49m\u001b[43m \u001b[49m\u001b[33;43m'\u001b[39;49m\u001b[33;43mCUSR0000SAA\u001b[39;49m\u001b[33;43m'\u001b[39;49m\u001b[43m]\u001b[49m\u001b[43m)\u001b[49m\n\u001b[32m     27\u001b[39m df1\n",
      "\u001b[36mFile \u001b[39m\u001b[32mc:\\Users\\sammy\\Projects\\index_bls\\.venv\\Lib\\site-packages\\polars\\dataframe\\frame.py:9861\u001b[39m, in \u001b[36mDataFrame.select\u001b[39m\u001b[34m(self, *exprs, **named_exprs)\u001b[39m\n\u001b[32m   9777\u001b[39m \u001b[38;5;250m\u001b[39m\u001b[33;03m\"\"\"\u001b[39;00m\n\u001b[32m   9778\u001b[39m \u001b[33;03mSelect columns from this DataFrame.\u001b[39;00m\n\u001b[32m   9779\u001b[39m \n\u001b[32m   (...)\u001b[39m\u001b[32m   9854\u001b[39m \u001b[33;03m└───────────┘\u001b[39;00m\n\u001b[32m   9855\u001b[39m \u001b[33;03m\"\"\"\u001b[39;00m\n\u001b[32m   9856\u001b[39m \u001b[38;5;28;01mfrom\u001b[39;00m\u001b[38;5;250m \u001b[39m\u001b[34;01mpolars\u001b[39;00m\u001b[34;01m.\u001b[39;00m\u001b[34;01mlazyframe\u001b[39;00m\u001b[34;01m.\u001b[39;00m\u001b[34;01mopt_flags\u001b[39;00m\u001b[38;5;250m \u001b[39m\u001b[38;5;28;01mimport\u001b[39;00m QueryOptFlags\n\u001b[32m   9858\u001b[39m \u001b[38;5;28;01mreturn\u001b[39;00m (\n\u001b[32m   9859\u001b[39m     \u001b[38;5;28;43mself\u001b[39;49m\u001b[43m.\u001b[49m\u001b[43mlazy\u001b[49m\u001b[43m(\u001b[49m\u001b[43m)\u001b[49m\n\u001b[32m   9860\u001b[39m \u001b[43m    \u001b[49m\u001b[43m.\u001b[49m\u001b[43mselect\u001b[49m\u001b[43m(\u001b[49m\u001b[43m*\u001b[49m\u001b[43mexprs\u001b[49m\u001b[43m,\u001b[49m\u001b[43m \u001b[49m\u001b[43m*\u001b[49m\u001b[43m*\u001b[49m\u001b[43mnamed_exprs\u001b[49m\u001b[43m)\u001b[49m\n\u001b[32m-> \u001b[39m\u001b[32m9861\u001b[39m \u001b[43m    \u001b[49m\u001b[43m.\u001b[49m\u001b[43mcollect\u001b[49m\u001b[43m(\u001b[49m\u001b[43moptimizations\u001b[49m\u001b[43m=\u001b[49m\u001b[43mQueryOptFlags\u001b[49m\u001b[43m.\u001b[49m\u001b[43m_eager\u001b[49m\u001b[43m(\u001b[49m\u001b[43m)\u001b[49m\u001b[43m)\u001b[49m\n\u001b[32m   9862\u001b[39m )\n",
      "\u001b[36mFile \u001b[39m\u001b[32mc:\\Users\\sammy\\Projects\\index_bls\\.venv\\Lib\\site-packages\\polars\\_utils\\deprecation.py:97\u001b[39m, in \u001b[36mdeprecate_streaming_parameter.<locals>.decorate.<locals>.wrapper\u001b[39m\u001b[34m(*args, **kwargs)\u001b[39m\n\u001b[32m     93\u001b[39m         kwargs[\u001b[33m\"\u001b[39m\u001b[33mengine\u001b[39m\u001b[33m\"\u001b[39m] = \u001b[33m\"\u001b[39m\u001b[33min-memory\u001b[39m\u001b[33m\"\u001b[39m\n\u001b[32m     95\u001b[39m     \u001b[38;5;28;01mdel\u001b[39;00m kwargs[\u001b[33m\"\u001b[39m\u001b[33mstreaming\u001b[39m\u001b[33m\"\u001b[39m]\n\u001b[32m---> \u001b[39m\u001b[32m97\u001b[39m \u001b[38;5;28;01mreturn\u001b[39;00m \u001b[43mfunction\u001b[49m\u001b[43m(\u001b[49m\u001b[43m*\u001b[49m\u001b[43margs\u001b[49m\u001b[43m,\u001b[49m\u001b[43m \u001b[49m\u001b[43m*\u001b[49m\u001b[43m*\u001b[49m\u001b[43mkwargs\u001b[49m\u001b[43m)\u001b[49m\n",
      "\u001b[36mFile \u001b[39m\u001b[32mc:\\Users\\sammy\\Projects\\index_bls\\.venv\\Lib\\site-packages\\polars\\lazyframe\\opt_flags.py:330\u001b[39m, in \u001b[36mforward_old_opt_flags.<locals>.decorate.<locals>.wrapper\u001b[39m\u001b[34m(*args, **kwargs)\u001b[39m\n\u001b[32m    327\u001b[39m         optflags = cb(optflags, kwargs.pop(key))  \u001b[38;5;66;03m# type: ignore[no-untyped-call,unused-ignore]\u001b[39;00m\n\u001b[32m    329\u001b[39m kwargs[\u001b[33m\"\u001b[39m\u001b[33moptimizations\u001b[39m\u001b[33m\"\u001b[39m] = optflags\n\u001b[32m--> \u001b[39m\u001b[32m330\u001b[39m \u001b[38;5;28;01mreturn\u001b[39;00m \u001b[43mfunction\u001b[49m\u001b[43m(\u001b[49m\u001b[43m*\u001b[49m\u001b[43margs\u001b[49m\u001b[43m,\u001b[49m\u001b[43m \u001b[49m\u001b[43m*\u001b[49m\u001b[43m*\u001b[49m\u001b[43mkwargs\u001b[49m\u001b[43m)\u001b[49m\n",
      "\u001b[36mFile \u001b[39m\u001b[32mc:\\Users\\sammy\\Projects\\index_bls\\.venv\\Lib\\site-packages\\polars\\lazyframe\\frame.py:2335\u001b[39m, in \u001b[36mLazyFrame.collect\u001b[39m\u001b[34m(self, type_coercion, predicate_pushdown, projection_pushdown, simplify_expression, slice_pushdown, comm_subplan_elim, comm_subexpr_elim, cluster_with_columns, collapse_joins, no_optimization, engine, background, optimizations, **_kwargs)\u001b[39m\n\u001b[32m   2333\u001b[39m \u001b[38;5;66;03m# Only for testing purposes\u001b[39;00m\n\u001b[32m   2334\u001b[39m callback = _kwargs.get(\u001b[33m\"\u001b[39m\u001b[33mpost_opt_callback\u001b[39m\u001b[33m\"\u001b[39m, callback)\n\u001b[32m-> \u001b[39m\u001b[32m2335\u001b[39m \u001b[38;5;28;01mreturn\u001b[39;00m wrap_df(\u001b[43mldf\u001b[49m\u001b[43m.\u001b[49m\u001b[43mcollect\u001b[49m\u001b[43m(\u001b[49m\u001b[43mengine\u001b[49m\u001b[43m,\u001b[49m\u001b[43m \u001b[49m\u001b[43mcallback\u001b[49m\u001b[43m)\u001b[49m)\n",
      "\u001b[31mColumnNotFoundError\u001b[39m: unable to find column \"CUUR0000SAA\"; valid columns: [\"year\", \"period\", \"date\", \"MonthName\"]"
     ]
    }
   ],
   "source": [
    "df1 = df.filter(1==1) \\\n",
    "    .filter(\n",
    "        (pl.col('period').str.starts_with('S')==False)\n",
    "        & (pl.col('period') != 'M13')\n",
    "    ) \\\n",
    "    .with_columns(\n",
    "        pl.col('period').str.slice(-2).cast(pl.Int8)\n",
    "    ) \\\n",
    "    .with_columns(\n",
    "        pl.date(pl.col('year'), pl.col('period'), 1).alias('date'),\n",
    "    ) \\\n",
    "    .with_columns(\n",
    "        pl.col('date').dt.strftime(\"%B\").alias('MonthName'),\n",
    "        pl.col('period')#.cast(pl.String)\n",
    "    ) \\\n",
    "    .filter(\n",
    "        (1==1)\n",
    "        & (pl.col('date') >= pl.date(1975, 1, 1)) \n",
    "        & (pl.col('series_id').is_in(['CUUR0000SAA','CUSR0000SAA']))\n",
    "    ) \\\n",
    "    .group_by(['series_id', 'year', 'period', 'date', 'MonthName']) \\\n",
    "    .agg(pl.mean('value')) \\\n",
    "    .sort(['series_id', 'year', 'period']) \\\n",
    "    .pivot(on='series_id', index=['year', 'period', 'date', 'MonthName'], values='value') \\\n",
    "    .select(['year', 'period', 'date', 'MonthName', 'CUUR0000SAA', 'CUSR0000SAA'])\n",
    "\n",
    "df1"
   ]
  },
  {
   "cell_type": "code",
   "execution_count": 3,
   "id": "438c4ff9",
   "metadata": {},
   "outputs": [
    {
     "data": {
      "text/html": [
       "<div><style>\n",
       ".dataframe > thead > tr,\n",
       ".dataframe > tbody > tr {\n",
       "  text-align: right;\n",
       "  white-space: pre-wrap;\n",
       "}\n",
       "</style>\n",
       "<small>shape: (50, 6)</small><table border=\"1\" class=\"dataframe\"><thead><tr><th>year</th><th>period</th><th>date</th><th>MonthName</th><th>CUUR0000SAA</th><th>CUSR0000SAA</th></tr><tr><td>i64</td><td>i8</td><td>null</td><td>null</td><td>f64</td><td>f64</td></tr></thead><tbody><tr><td>1975</td><td>13</td><td>null</td><td>null</td><td>72.5</td><td>0.0</td></tr><tr><td>1976</td><td>13</td><td>null</td><td>null</td><td>75.2</td><td>0.0</td></tr><tr><td>1977</td><td>13</td><td>null</td><td>null</td><td>78.6</td><td>0.0</td></tr><tr><td>1978</td><td>13</td><td>null</td><td>null</td><td>81.4</td><td>0.0</td></tr><tr><td>1979</td><td>13</td><td>null</td><td>null</td><td>84.9</td><td>0.0</td></tr><tr><td>&hellip;</td><td>&hellip;</td><td>&hellip;</td><td>&hellip;</td><td>&hellip;</td><td>&hellip;</td></tr><tr><td>2020</td><td>13</td><td>null</td><td>null</td><td>118.079</td><td>0.0</td></tr><tr><td>2021</td><td>13</td><td>null</td><td>null</td><td>120.993</td><td>0.0</td></tr><tr><td>2022</td><td>13</td><td>null</td><td>null</td><td>127.081</td><td>0.0</td></tr><tr><td>2023</td><td>13</td><td>null</td><td>null</td><td>130.579</td><td>0.0</td></tr><tr><td>2024</td><td>13</td><td>null</td><td>null</td><td>131.483</td><td>0.0</td></tr></tbody></table></div>"
      ],
      "text/plain": [
       "shape: (50, 6)\n",
       "┌──────┬────────┬──────┬───────────┬─────────────┬─────────────┐\n",
       "│ year ┆ period ┆ date ┆ MonthName ┆ CUUR0000SAA ┆ CUSR0000SAA │\n",
       "│ ---  ┆ ---    ┆ ---  ┆ ---       ┆ ---         ┆ ---         │\n",
       "│ i64  ┆ i8     ┆ null ┆ null      ┆ f64         ┆ f64         │\n",
       "╞══════╪════════╪══════╪═══════════╪═════════════╪═════════════╡\n",
       "│ 1975 ┆ 13     ┆ null ┆ null      ┆ 72.5        ┆ 0.0         │\n",
       "│ 1976 ┆ 13     ┆ null ┆ null      ┆ 75.2        ┆ 0.0         │\n",
       "│ 1977 ┆ 13     ┆ null ┆ null      ┆ 78.6        ┆ 0.0         │\n",
       "│ 1978 ┆ 13     ┆ null ┆ null      ┆ 81.4        ┆ 0.0         │\n",
       "│ 1979 ┆ 13     ┆ null ┆ null      ┆ 84.9        ┆ 0.0         │\n",
       "│ …    ┆ …      ┆ …    ┆ …         ┆ …           ┆ …           │\n",
       "│ 2020 ┆ 13     ┆ null ┆ null      ┆ 118.079     ┆ 0.0         │\n",
       "│ 2021 ┆ 13     ┆ null ┆ null      ┆ 120.993     ┆ 0.0         │\n",
       "│ 2022 ┆ 13     ┆ null ┆ null      ┆ 127.081     ┆ 0.0         │\n",
       "│ 2023 ┆ 13     ┆ null ┆ null      ┆ 130.579     ┆ 0.0         │\n",
       "│ 2024 ┆ 13     ┆ null ┆ null      ┆ 131.483     ┆ 0.0         │\n",
       "└──────┴────────┴──────┴───────────┴─────────────┴─────────────┘"
      ]
     },
     "execution_count": 3,
     "metadata": {},
     "output_type": "execute_result"
    }
   ],
   "source": [
    "df2 = df.filter(1==1) \\\n",
    "    .filter(\n",
    "        (pl.col('period').str.starts_with('S')==False)\n",
    "        & (pl.col('period') == 'M13')\n",
    "    ) \\\n",
    "    .with_columns(\n",
    "        pl.col('period').str.slice(-2).cast(pl.Int8)\n",
    "    ) \\\n",
    "    .filter(\n",
    "        (pl.col('year') >= 1975)\n",
    "        & (pl.col('series_id').is_in(['CUUR0000SAA','CUSR0000SAA']))\n",
    "    ) \\\n",
    "    .with_columns(\n",
    "        (pl.col('value')*0).alias('CUSR0000SAA'),\n",
    "        pl.col('value').alias('CUUR0000SAA'),\n",
    "        # pl.col('period').replace_strict(13, 'Annual'),\n",
    "        pl.lit(None).alias('date'),\n",
    "        pl.lit(None).alias('MonthName'),\n",
    "    ) \\\n",
    "    .select(['year', 'period', 'date', 'MonthName', 'CUUR0000SAA', 'CUSR0000SAA'])\n",
    "    # .select(['year', 'period', 'CUUR0000SAA', 'CUSR0000SAA'])\n",
    "\n",
    "df2"
   ]
  },
  {
   "cell_type": "code",
   "execution_count": 4,
   "id": "c4de6cdb",
   "metadata": {},
   "outputs": [
    {
     "data": {
      "text/html": [
       "<div><style>\n",
       ".dataframe > thead > tr,\n",
       ".dataframe > tbody > tr {\n",
       "  text-align: right;\n",
       "  white-space: pre-wrap;\n",
       "}\n",
       "</style>\n",
       "<small>shape: (657, 7)</small><table border=\"1\" class=\"dataframe\"><thead><tr><th>Year</th><th>MonthNum</th><th>M/YYYY</th><th>Month</th><th>Not Seasonally Adjusted</th><th>Seasonally Adjusted</th><th>Period</th></tr><tr><td>i64</td><td>str</td><td>str</td><td>str</td><td>f64</td><td>f64</td><td>i8</td></tr></thead><tbody><tr><td>1975</td><td>&quot;1&quot;</td><td>&quot;01-1975&quot;</td><td>&quot;January&quot;</td><td>71.1</td><td>71.8</td><td>1</td></tr><tr><td>1975</td><td>&quot;2&quot;</td><td>&quot;02-1975&quot;</td><td>&quot;February&quot;</td><td>71.5</td><td>72.0</td><td>2</td></tr><tr><td>1975</td><td>&quot;3&quot;</td><td>&quot;03-1975&quot;</td><td>&quot;March&quot;</td><td>71.8</td><td>72.1</td><td>3</td></tr><tr><td>1975</td><td>&quot;4&quot;</td><td>&quot;04-1975&quot;</td><td>&quot;April&quot;</td><td>72.0</td><td>72.1</td><td>4</td></tr><tr><td>1975</td><td>&quot;5&quot;</td><td>&quot;05-1975&quot;</td><td>&quot;May&quot;</td><td>72.3</td><td>72.2</td><td>5</td></tr><tr><td>&hellip;</td><td>&hellip;</td><td>&hellip;</td><td>&hellip;</td><td>&hellip;</td><td>&hellip;</td><td>&hellip;</td></tr><tr><td>2025</td><td>&quot;3&quot;</td><td>&quot;03-2025&quot;</td><td>&quot;March&quot;</td><td>134.082</td><td>131.415</td><td>3</td></tr><tr><td>2025</td><td>&quot;4&quot;</td><td>&quot;04-2025&quot;</td><td>&quot;April&quot;</td><td>132.544</td><td>131.156</td><td>4</td></tr><tr><td>2025</td><td>&quot;5&quot;</td><td>&quot;05-2025&quot;</td><td>&quot;May&quot;</td><td>131.223</td><td>130.599</td><td>5</td></tr><tr><td>2025</td><td>&quot;6&quot;</td><td>&quot;06-2025&quot;</td><td>&quot;June&quot;</td><td>130.844</td><td>131.161</td><td>6</td></tr><tr><td>2025</td><td>&quot;7&quot;</td><td>&quot;07-2025&quot;</td><td>&quot;July&quot;</td><td>129.19</td><td>131.253</td><td>7</td></tr></tbody></table></div>"
      ],
      "text/plain": [
       "shape: (657, 7)\n",
       "┌──────┬──────────┬─────────┬──────────┬─────────────────────────┬─────────────────────┬────────┐\n",
       "│ Year ┆ MonthNum ┆ M/YYYY  ┆ Month    ┆ Not Seasonally Adjusted ┆ Seasonally Adjusted ┆ Period │\n",
       "│ ---  ┆ ---      ┆ ---     ┆ ---      ┆ ---                     ┆ ---                 ┆ ---    │\n",
       "│ i64  ┆ str      ┆ str     ┆ str      ┆ f64                     ┆ f64                 ┆ i8     │\n",
       "╞══════╪══════════╪═════════╪══════════╪═════════════════════════╪═════════════════════╪════════╡\n",
       "│ 1975 ┆ 1        ┆ 01-1975 ┆ January  ┆ 71.1                    ┆ 71.8                ┆ 1      │\n",
       "│ 1975 ┆ 2        ┆ 02-1975 ┆ February ┆ 71.5                    ┆ 72.0                ┆ 2      │\n",
       "│ 1975 ┆ 3        ┆ 03-1975 ┆ March    ┆ 71.8                    ┆ 72.1                ┆ 3      │\n",
       "│ 1975 ┆ 4        ┆ 04-1975 ┆ April    ┆ 72.0                    ┆ 72.1                ┆ 4      │\n",
       "│ 1975 ┆ 5        ┆ 05-1975 ┆ May      ┆ 72.3                    ┆ 72.2                ┆ 5      │\n",
       "│ …    ┆ …        ┆ …       ┆ …        ┆ …                       ┆ …                   ┆ …      │\n",
       "│ 2025 ┆ 3        ┆ 03-2025 ┆ March    ┆ 134.082                 ┆ 131.415             ┆ 3      │\n",
       "│ 2025 ┆ 4        ┆ 04-2025 ┆ April    ┆ 132.544                 ┆ 131.156             ┆ 4      │\n",
       "│ 2025 ┆ 5        ┆ 05-2025 ┆ May      ┆ 131.223                 ┆ 130.599             ┆ 5      │\n",
       "│ 2025 ┆ 6        ┆ 06-2025 ┆ June     ┆ 130.844                 ┆ 131.161             ┆ 6      │\n",
       "│ 2025 ┆ 7        ┆ 07-2025 ┆ July     ┆ 129.19                  ┆ 131.253             ┆ 7      │\n",
       "└──────┴──────────┴─────────┴──────────┴─────────────────────────┴─────────────────────┴────────┘"
      ]
     },
     "execution_count": 4,
     "metadata": {},
     "output_type": "execute_result"
    }
   ],
   "source": [
    "df3 = pl.concat([df1, df2])\n",
    "df3.columns = ['Year', 'MonthNum', 'M/YYYY', 'Month', 'Not Seasonally Adjusted', 'Seasonally Adjusted']\n",
    "df3.filter(1==1) \\\n",
    "    .sort(['Year', 'MonthNum']) \\\n",
    "    .with_columns(\n",
    "        pl.col('MonthNum').alias('Period'),\n",
    "        pl.col('M/YYYY').dt.strftime('%m-%Y'),\n",
    "        pl.col('MonthNum').cast(pl.String).replace({'13': 'Annual'})\n",
    "\n",
    "    )"
   ]
  },
  {
   "cell_type": "code",
   "execution_count": 8,
   "id": "f13dec87",
   "metadata": {},
   "outputs": [
    {
     "data": {
      "text/html": [
       "<div><style>\n",
       ".dataframe > thead > tr,\n",
       ".dataframe > tbody > tr {\n",
       "  text-align: right;\n",
       "  white-space: pre-wrap;\n",
       "}\n",
       "</style>\n",
       "<small>shape: (5, 6)</small><table border=\"1\" class=\"dataframe\"><thead><tr><th>Year</th><th>MonthNum</th><th>M/YYYY</th><th>Month</th><th>Not Seasonally Adjusted</th><th>Seasonally Adjusted</th></tr><tr><td>i64</td><td>i8</td><td>date</td><td>str</td><td>f64</td><td>f64</td></tr></thead><tbody><tr><td>1975</td><td>1</td><td>1975-01-01</td><td>&quot;January&quot;</td><td>71.1</td><td>71.8</td></tr><tr><td>1975</td><td>2</td><td>1975-02-01</td><td>&quot;February&quot;</td><td>71.5</td><td>72.0</td></tr><tr><td>1975</td><td>3</td><td>1975-03-01</td><td>&quot;March&quot;</td><td>71.8</td><td>72.1</td></tr><tr><td>1975</td><td>4</td><td>1975-04-01</td><td>&quot;April&quot;</td><td>72.0</td><td>72.1</td></tr><tr><td>1975</td><td>5</td><td>1975-05-01</td><td>&quot;May&quot;</td><td>72.3</td><td>72.2</td></tr></tbody></table></div>"
      ],
      "text/plain": [
       "shape: (5, 6)\n",
       "┌──────┬──────────┬────────────┬──────────┬─────────────────────────┬─────────────────────┐\n",
       "│ Year ┆ MonthNum ┆ M/YYYY     ┆ Month    ┆ Not Seasonally Adjusted ┆ Seasonally Adjusted │\n",
       "│ ---  ┆ ---      ┆ ---        ┆ ---      ┆ ---                     ┆ ---                 │\n",
       "│ i64  ┆ i8       ┆ date       ┆ str      ┆ f64                     ┆ f64                 │\n",
       "╞══════╪══════════╪════════════╪══════════╪═════════════════════════╪═════════════════════╡\n",
       "│ 1975 ┆ 1        ┆ 1975-01-01 ┆ January  ┆ 71.1                    ┆ 71.8                │\n",
       "│ 1975 ┆ 2        ┆ 1975-02-01 ┆ February ┆ 71.5                    ┆ 72.0                │\n",
       "│ 1975 ┆ 3        ┆ 1975-03-01 ┆ March    ┆ 71.8                    ┆ 72.1                │\n",
       "│ 1975 ┆ 4        ┆ 1975-04-01 ┆ April    ┆ 72.0                    ┆ 72.1                │\n",
       "│ 1975 ┆ 5        ┆ 1975-05-01 ┆ May      ┆ 72.3                    ┆ 72.2                │\n",
       "└──────┴──────────┴────────────┴──────────┴─────────────────────────┴─────────────────────┘"
      ]
     },
     "execution_count": 8,
     "metadata": {},
     "output_type": "execute_result"
    }
   ],
   "source": [
    "df3.head()"
   ]
  },
  {
   "cell_type": "code",
   "execution_count": null,
   "id": "88118dcf",
   "metadata": {},
   "outputs": [],
   "source": []
  },
  {
   "cell_type": "code",
   "execution_count": null,
   "id": "f2a86447",
   "metadata": {},
   "outputs": [],
   "source": []
  },
  {
   "cell_type": "code",
   "execution_count": null,
   "id": "4233865b",
   "metadata": {},
   "outputs": [],
   "source": []
  },
  {
   "cell_type": "code",
   "execution_count": null,
   "id": "36e48f26",
   "metadata": {},
   "outputs": [],
   "source": []
  },
  {
   "cell_type": "code",
   "execution_count": null,
   "id": "2d99d18d",
   "metadata": {},
   "outputs": [],
   "source": []
  },
  {
   "cell_type": "code",
   "execution_count": null,
   "id": "09a3e992",
   "metadata": {},
   "outputs": [],
   "source": []
  }
 ],
 "metadata": {
  "kernelspec": {
   "display_name": "index-bls",
   "language": "python",
   "name": "python3"
  },
  "language_info": {
   "codemirror_mode": {
    "name": "ipython",
    "version": 3
   },
   "file_extension": ".py",
   "mimetype": "text/x-python",
   "name": "python",
   "nbconvert_exporter": "python",
   "pygments_lexer": "ipython3",
   "version": "3.12.11"
  }
 },
 "nbformat": 4,
 "nbformat_minor": 5
}
