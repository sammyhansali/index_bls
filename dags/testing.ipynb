{
 "cells": [
  {
   "cell_type": "code",
   "execution_count": 133,
   "id": "c43bfbbd",
   "metadata": {},
   "outputs": [],
   "source": [
    "import requests\n",
    "import polars as pl\n",
    "from io import StringIO\n",
    "\n",
    "api = \"https://download.bls.gov/pub/time.series\"\n",
    "endpoints = {\n",
    "    \"ConsumerPriceApparelData\": \"cu/cu.data.2.Summaries\",\n",
    "    \"ConsumerPriceHousingData\": \"cu/cu.data.12.USHousing\",\n",
    "    \"ConsumerPriceMedicalData\": \"cu/cu.data.15.USMedical\",\n",
    "    \"ConsumerPriceRecreationData\": \"cu/cu.data.16.USRecreation\",\n",
    "    \"ProducerPriceData\": \"wp/wp.data.22.FD-ID\",\n",
    "}\n",
    "headers = {\n",
    "    \"User-Agent\": (\n",
    "        \"Mozilla/5.0 (Windows NT 10.0; Win64; x64) \"\n",
    "        \"AppleWebKit/537.36 (KHTML, like Gecko) \"\n",
    "        \"Chrome/124.0 Safari/537.36\"\n",
    "    )\n",
    "}\n",
    "\n",
    "series_ids = {\n",
    "    \"ConsumerPriceApparelData\": {\n",
    "        \"CUUR0000SAA\": \"Apparel (NSA)\",\n",
    "        \"CUSR0000SAA\": \"Apparel (SA)\",\n",
    "    },\n",
    "    \"ConsumerPriceHousingData\": {\n",
    "        \"CUUR0000SAH3\": \"Household Furnishings and Operations (NSA)\",\n",
    "        \"CUSR0000SAH3\": \"Household Furnishings and Operations (SA)\",\n",
    "    },\n",
    "    \"ConsumerPriceMedicalData\": {\n",
    "        \"CUUR0000SEMC01\": \"Physicians' Services (NSA)\",\n",
    "        \"CUSR0000SEMC01\": \"Physicians' Services (SA)\",\n",
    "        \"CUUR0000SEMD01\": \"Hospital Services (NSA)\",\n",
    "        \"CUSR0000SEMD01\": \"Hospital Services (SA)\",\n",
    "        \"CUUR0000SAM1\": \"Medical Care Commodities (NSA)\",\n",
    "        \"CUSR0000SAM1\": \"Medical Care Commodities (SA)\",\n",
    "    },\n",
    "    \"ConsumerPriceRecreationData\": {\n",
    "        \"CUUR0000SAR\": \"Recreation (NSA)\",\n",
    "        \"CUSR0000SAR\": \"Recreation (SA)\",\n",
    "    },\n",
    "    \"ProducerPriceData\": {\n",
    "        \"WPUFD49208\": \"Finished Goods Less Energy (NSA)\",\n",
    "        \"WPSFD49208\": \"Finished Goods Less Energy (SA)\",\n",
    "        \"WPUFD4131\": \"Finished Goods Less Food and Energy (NSA)\",\n",
    "        \"WPSFD4131\": \"Finished Goods Less Food and Energy (SA)\",\n",
    "    },\n",
    "}\n",
    "\n",
    "def generate_raw(cat: str):\n",
    "    curr_srs = series_ids[cat]\n",
    "\n",
    "    raw_df = df.filter(1==1) \\\n",
    "        .filter(\n",
    "            (pl.col('period').str.starts_with('S')==False) # [S01, S02, S03]. not sure exactly what these are.\n",
    "            & (pl.col('period') != 'M13') # Month 13 is the average of that series for that full calendar year.\n",
    "            & (pl.col('series_id').is_in(list(curr_srs.keys())))\n",
    "        ) \\\n",
    "        .with_columns(\n",
    "            pl.col('period').str.slice(-2).cast(pl.Int8).alias('month'),\n",
    "            pl.col('series_id').replace(curr_srs).alias(\"category\"),\n",
    "        ) \\\n",
    "        .with_columns(\n",
    "            pl.date(pl.col('year'), pl.col('month'), 1).alias('date')\n",
    "        ) \\\n",
    "        .select([\n",
    "            'category',\n",
    "            'series_id', \n",
    "            'date', \n",
    "            'value',\n",
    "        ])\n",
    "    \n",
    "    return raw_df\n",
    "\n",
    "def generate_pivot(raw_df):\n",
    "    pivot_df = raw_df.filter(1==1) \\\n",
    "        .pivot(on=['series_id'], index=['date'], values=['value']) \\\n",
    "        .sort('date')\n",
    "    \n",
    "    return pivot_df\n",
    "\n",
    "def generate_yr_agg_pivot(pivot_df):\n",
    "    yr_agg_pivot_df = pivot_df.filter(1==1) \\\n",
    "        .with_columns(\n",
    "            pl.col('date').dt.year().alias('year'),\n",
    "        ) \\\n",
    "        .group_by(pl.col('year')) \\\n",
    "        .agg(pl.all().exclude('year', 'date').mean()) \\\n",
    "        .sort('year')\n",
    "\n",
    "    return yr_agg_pivot_df\n",
    "\n",
    "\n",
    "categories = endpoints.keys()\n",
    "for cat in categories:\n",
    "    url = f\"{api}/{endpoints[cat]}\"\n",
    "\n",
    "    try:\n",
    "        response = requests.get(url, headers=headers)\n",
    "        response.raise_for_status()\n",
    "\n",
    "        text=\"\\n\".join([\" \".join(line.split()) for line in response.text.splitlines()])\n",
    "        df = pl.read_csv(StringIO(text), separator=\" \")\n",
    "        # print(df)\n",
    "    except:\n",
    "        print(response.status_code)\n",
    "\n",
    "    raw_df = generate_raw(cat)\n",
    "    pivot_df = generate_pivot(raw_df)\n",
    "    yr_agg_pivot_df = generate_yr_agg_pivot(pivot_df)\n",
    "    \n"
   ]
  },
  {
   "cell_type": "code",
   "execution_count": 136,
   "id": "8952348f",
   "metadata": {},
   "outputs": [
    {
     "data": {
      "text/html": [
       "<div><style>\n",
       ".dataframe > thead > tr,\n",
       ".dataframe > tbody > tr {\n",
       "  text-align: right;\n",
       "  white-space: pre-wrap;\n",
       "}\n",
       "</style>\n",
       "<small>shape: (631, 5)</small><table border=\"1\" class=\"dataframe\"><thead><tr><th>date</th><th>WPSFD4131</th><th>WPSFD49208</th><th>WPUFD4131</th><th>WPUFD49208</th></tr><tr><td>date</td><td>f64</td><td>f64</td><td>f64</td><td>f64</td></tr></thead><tbody><tr><td>1973-01-01</td><td>null</td><td>null</td><td>47.2</td><td>null</td></tr><tr><td>1973-02-01</td><td>null</td><td>null</td><td>47.4</td><td>null</td></tr><tr><td>1973-03-01</td><td>null</td><td>null</td><td>47.5</td><td>null</td></tr><tr><td>1973-04-01</td><td>null</td><td>null</td><td>47.8</td><td>null</td></tr><tr><td>1973-05-01</td><td>null</td><td>null</td><td>48.0</td><td>null</td></tr><tr><td>&hellip;</td><td>&hellip;</td><td>&hellip;</td><td>&hellip;</td><td>&hellip;</td></tr><tr><td>2025-03-01</td><td>257.253</td><td>263.639</td><td>257.469</td><td>263.617</td></tr><tr><td>2025-04-01</td><td>258.087</td><td>263.322</td><td>258.254</td><td>263.369</td></tr><tr><td>2025-05-01</td><td>258.915</td><td>263.915</td><td>258.979</td><td>264.057</td></tr><tr><td>2025-06-01</td><td>259.67</td><td>264.542</td><td>259.65</td><td>264.903</td></tr><tr><td>2025-07-01</td><td>260.324</td><td>266.237</td><td>260.254</td><td>266.309</td></tr></tbody></table></div>"
      ],
      "text/plain": [
       "shape: (631, 5)\n",
       "┌────────────┬───────────┬────────────┬───────────┬────────────┐\n",
       "│ date       ┆ WPSFD4131 ┆ WPSFD49208 ┆ WPUFD4131 ┆ WPUFD49208 │\n",
       "│ ---        ┆ ---       ┆ ---        ┆ ---       ┆ ---        │\n",
       "│ date       ┆ f64       ┆ f64        ┆ f64       ┆ f64        │\n",
       "╞════════════╪═══════════╪════════════╪═══════════╪════════════╡\n",
       "│ 1973-01-01 ┆ null      ┆ null       ┆ 47.2      ┆ null       │\n",
       "│ 1973-02-01 ┆ null      ┆ null       ┆ 47.4      ┆ null       │\n",
       "│ 1973-03-01 ┆ null      ┆ null       ┆ 47.5      ┆ null       │\n",
       "│ 1973-04-01 ┆ null      ┆ null       ┆ 47.8      ┆ null       │\n",
       "│ 1973-05-01 ┆ null      ┆ null       ┆ 48.0      ┆ null       │\n",
       "│ …          ┆ …         ┆ …          ┆ …         ┆ …          │\n",
       "│ 2025-03-01 ┆ 257.253   ┆ 263.639    ┆ 257.469   ┆ 263.617    │\n",
       "│ 2025-04-01 ┆ 258.087   ┆ 263.322    ┆ 258.254   ┆ 263.369    │\n",
       "│ 2025-05-01 ┆ 258.915   ┆ 263.915    ┆ 258.979   ┆ 264.057    │\n",
       "│ 2025-06-01 ┆ 259.67    ┆ 264.542    ┆ 259.65    ┆ 264.903    │\n",
       "│ 2025-07-01 ┆ 260.324   ┆ 266.237    ┆ 260.254   ┆ 266.309    │\n",
       "└────────────┴───────────┴────────────┴───────────┴────────────┘"
      ]
     },
     "execution_count": 136,
     "metadata": {},
     "output_type": "execute_result"
    }
   ],
   "source": [
    "pivot_df"
   ]
  },
  {
   "cell_type": "code",
   "execution_count": 122,
   "id": "f1da3969",
   "metadata": {},
   "outputs": [
    {
     "data": {
      "text/plain": [
       "['M01',\n",
       " 'M02',\n",
       " 'M03',\n",
       " 'M04',\n",
       " 'M05',\n",
       " 'M06',\n",
       " 'M07',\n",
       " 'M08',\n",
       " 'M09',\n",
       " 'M10',\n",
       " 'M11',\n",
       " 'M12',\n",
       " 'M13']"
      ]
     },
     "execution_count": 122,
     "metadata": {},
     "output_type": "execute_result"
    }
   ],
   "source": [
    "sorted(df['period'].unique().to_list())"
   ]
  },
  {
   "cell_type": "code",
   "execution_count": 111,
   "id": "f4119b01",
   "metadata": {},
   "outputs": [
    {
     "data": {
      "text/plain": [
       "'ConsumerPriceMedicalData'"
      ]
     },
     "execution_count": 111,
     "metadata": {},
     "output_type": "execute_result"
    }
   ],
   "source": [
    "cat"
   ]
  },
  {
   "cell_type": "code",
   "execution_count": 124,
   "id": "4ceb922c",
   "metadata": {},
   "outputs": [
    {
     "data": {
      "text/plain": [
       "dict_keys(['WPUFD49208', 'WPSFD49208', 'WPUFD4131', 'WPSFD4131'])"
      ]
     },
     "execution_count": 124,
     "metadata": {},
     "output_type": "execute_result"
    }
   ],
   "source": [
    "series_ids[cat].keys()"
   ]
  },
  {
   "cell_type": "code",
   "execution_count": 123,
   "id": "e8c733a3",
   "metadata": {},
   "outputs": [
    {
     "name": "stdout",
     "output_type": "stream",
     "text": [
      "shape: (2_464, 4)\n",
      "┌─────────────────────────────────┬────────────┬────────────┬─────────┐\n",
      "│ category                        ┆ series_id  ┆ date       ┆ value   │\n",
      "│ ---                             ┆ ---        ┆ ---        ┆ ---     │\n",
      "│ str                             ┆ str        ┆ date       ┆ f64     │\n",
      "╞═════════════════════════════════╪════════════╪════════════╪═════════╡\n",
      "│ Finished Goods Less Food and E… ┆ WPSFD4131  ┆ 1974-01-01 ┆ 49.7    │\n",
      "│ Finished Goods Less Food and E… ┆ WPSFD4131  ┆ 1974-02-01 ┆ 50.0    │\n",
      "│ Finished Goods Less Food and E… ┆ WPSFD4131  ┆ 1974-03-01 ┆ 50.5    │\n",
      "│ Finished Goods Less Food and E… ┆ WPSFD4131  ┆ 1974-04-01 ┆ 51.1    │\n",
      "│ Finished Goods Less Food and E… ┆ WPSFD4131  ┆ 1974-05-01 ┆ 52.2    │\n",
      "│ …                               ┆ …          ┆ …          ┆ …       │\n",
      "│ Finished Goods Less Energy (NS… ┆ WPUFD49208 ┆ 2025-03-01 ┆ 263.617 │\n",
      "│ Finished Goods Less Energy (NS… ┆ WPUFD49208 ┆ 2025-04-01 ┆ 263.369 │\n",
      "│ Finished Goods Less Energy (NS… ┆ WPUFD49208 ┆ 2025-05-01 ┆ 264.057 │\n",
      "│ Finished Goods Less Energy (NS… ┆ WPUFD49208 ┆ 2025-06-01 ┆ 264.903 │\n",
      "│ Finished Goods Less Energy (NS… ┆ WPUFD49208 ┆ 2025-07-01 ┆ 266.309 │\n",
      "└─────────────────────────────────┴────────────┴────────────┴─────────┘\n"
     ]
    }
   ],
   "source": [
    "curr_srs = series_ids[cat]\n",
    "\n",
    "raw = df.filter(1==1) \\\n",
    "    .filter(\n",
    "        (pl.col('period').str.starts_with('S')==False) # [S01, S02, S03]. not sure exactly what these are.\n",
    "        & (pl.col('period') != 'M13') # Month 13 is the average of that series for that full calendar year.\n",
    "        & (pl.col('series_id').is_in(list(curr_srs.keys())))\n",
    "    ) \\\n",
    "    .with_columns(\n",
    "        pl.col('period').str.slice(-2).cast(pl.Int8).alias('month'),\n",
    "        pl.col('series_id').replace(curr_srs).alias(\"category\"),\n",
    "    ) \\\n",
    "    .with_columns(\n",
    "        pl.date(pl.col('year'), pl.col('month'), 1).alias('date')\n",
    "    ) \\\n",
    "    .select([\n",
    "        'category',\n",
    "        'series_id', \n",
    "        'date', \n",
    "        'value',\n",
    "    ])\n",
    "    \n",
    "print(raw)"
   ]
  },
  {
   "cell_type": "code",
   "execution_count": 125,
   "id": "798c8450",
   "metadata": {},
   "outputs": [
    {
     "name": "stdout",
     "output_type": "stream",
     "text": [
      "shape: (631, 5)\n",
      "┌────────────┬───────────┬────────────┬───────────┬────────────┐\n",
      "│ date       ┆ WPSFD4131 ┆ WPSFD49208 ┆ WPUFD4131 ┆ WPUFD49208 │\n",
      "│ ---        ┆ ---       ┆ ---        ┆ ---       ┆ ---        │\n",
      "│ date       ┆ f64       ┆ f64        ┆ f64       ┆ f64        │\n",
      "╞════════════╪═══════════╪════════════╪═══════════╪════════════╡\n",
      "│ 1973-01-01 ┆ null      ┆ null       ┆ 47.2      ┆ null       │\n",
      "│ 1973-02-01 ┆ null      ┆ null       ┆ 47.4      ┆ null       │\n",
      "│ 1973-03-01 ┆ null      ┆ null       ┆ 47.5      ┆ null       │\n",
      "│ 1973-04-01 ┆ null      ┆ null       ┆ 47.8      ┆ null       │\n",
      "│ 1973-05-01 ┆ null      ┆ null       ┆ 48.0      ┆ null       │\n",
      "│ …          ┆ …         ┆ …          ┆ …         ┆ …          │\n",
      "│ 2025-03-01 ┆ 257.253   ┆ 263.639    ┆ 257.469   ┆ 263.617    │\n",
      "│ 2025-04-01 ┆ 258.087   ┆ 263.322    ┆ 258.254   ┆ 263.369    │\n",
      "│ 2025-05-01 ┆ 258.915   ┆ 263.915    ┆ 258.979   ┆ 264.057    │\n",
      "│ 2025-06-01 ┆ 259.67    ┆ 264.542    ┆ 259.65    ┆ 264.903    │\n",
      "│ 2025-07-01 ┆ 260.324   ┆ 266.237    ┆ 260.254   ┆ 266.309    │\n",
      "└────────────┴───────────┴────────────┴───────────┴────────────┘\n"
     ]
    }
   ],
   "source": [
    "pivot = raw.filter(1==1) \\\n",
    "    .pivot(on=['series_id'], index=['date'], values=['value']) \\\n",
    "    .sort('date')\n",
    "\n",
    "print(pivot)"
   ]
  },
  {
   "cell_type": "code",
   "execution_count": 126,
   "id": "00e3a2a2",
   "metadata": {},
   "outputs": [
    {
     "name": "stdout",
     "output_type": "stream",
     "text": [
      "shape: (53, 5)\n",
      "┌──────┬────────────┬────────────┬────────────┬────────────┐\n",
      "│ year ┆ WPSFD4131  ┆ WPSFD49208 ┆ WPUFD4131  ┆ WPUFD49208 │\n",
      "│ ---  ┆ ---        ┆ ---        ┆ ---        ┆ ---        │\n",
      "│ i32  ┆ f64        ┆ f64        ┆ f64        ┆ f64        │\n",
      "╞══════╪════════════╪════════════╪════════════╪════════════╡\n",
      "│ 1973 ┆ null       ┆ null       ┆ 48.1       ┆ null       │\n",
      "│ 1974 ┆ 53.608333  ┆ null       ┆ 53.616667  ┆ null       │\n",
      "│ 1975 ┆ 59.741667  ┆ 62.466667  ┆ 59.725     ┆ 62.433333  │\n",
      "│ 1976 ┆ 63.116667  ┆ 64.825     ┆ 63.1       ┆ 64.8       │\n",
      "│ 1977 ┆ 66.883333  ┆ 68.533333  ┆ 66.9       ┆ 68.558333  │\n",
      "│ …    ┆ …          ┆ …          ┆ …          ┆ …          │\n",
      "│ 2021 ┆ 218.40125  ┆ 220.4455   ┆ 218.390667 ┆ 220.471917 │\n",
      "│ 2022 ┆ 236.498333 ┆ 242.1205   ┆ 236.493833 ┆ 242.19875  │\n",
      "│ 2023 ┆ 247.215917 ┆ 251.318667 ┆ 247.212333 ┆ 251.273083 │\n",
      "│ 2024 ┆ 253.050333 ┆ 257.92825  ┆ 253.0475   ┆ 257.899583 │\n",
      "│ 2025 ┆ 258.134286 ┆ 264.260286 ┆ 258.285857 ┆ 264.266143 │\n",
      "└──────┴────────────┴────────────┴────────────┴────────────┘\n"
     ]
    }
   ],
   "source": [
    "yr_agg_pivot = pivot.filter(1==1) \\\n",
    "    .with_columns(\n",
    "        pl.col('date').dt.year().alias('year'),\n",
    "    ) \\\n",
    "    .group_by(pl.col('year')) \\\n",
    "    .agg(pl.all().exclude('year', 'date').mean()) \\\n",
    "    .sort('year')\n",
    "\n",
    "print(yr_agg_pivot)"
   ]
  },
  {
   "cell_type": "code",
   "execution_count": null,
   "id": "09d34d86",
   "metadata": {},
   "outputs": [],
   "source": []
  },
  {
   "cell_type": "code",
   "execution_count": null,
   "id": "f7c41a14",
   "metadata": {},
   "outputs": [],
   "source": []
  },
  {
   "cell_type": "code",
   "execution_count": null,
   "id": "d599c07e",
   "metadata": {},
   "outputs": [],
   "source": []
  },
  {
   "cell_type": "code",
   "execution_count": null,
   "id": "285f873d",
   "metadata": {},
   "outputs": [],
   "source": []
  },
  {
   "cell_type": "code",
   "execution_count": 22,
   "id": "6cf2a01c",
   "metadata": {},
   "outputs": [
    {
     "data": {
      "text/html": [
       "<div><style>\n",
       ".dataframe > thead > tr,\n",
       ".dataframe > tbody > tr {\n",
       "  text-align: right;\n",
       "  white-space: pre-wrap;\n",
       "}\n",
       "</style>\n",
       "<small>shape: (1_214, 6)</small><table border=\"1\" class=\"dataframe\"><thead><tr><th>series_id</th><th>year</th><th>period</th><th>date</th><th>MonthName</th><th>value</th></tr><tr><td>str</td><td>i64</td><td>i8</td><td>date</td><td>str</td><td>f64</td></tr></thead><tbody><tr><td>&quot;CUSR0000SAA&quot;</td><td>1975</td><td>1</td><td>1975-01-01</td><td>&quot;January&quot;</td><td>71.8</td></tr><tr><td>&quot;CUSR0000SAA&quot;</td><td>1975</td><td>2</td><td>1975-02-01</td><td>&quot;February&quot;</td><td>72.0</td></tr><tr><td>&quot;CUSR0000SAA&quot;</td><td>1975</td><td>3</td><td>1975-03-01</td><td>&quot;March&quot;</td><td>72.1</td></tr><tr><td>&quot;CUSR0000SAA&quot;</td><td>1975</td><td>4</td><td>1975-04-01</td><td>&quot;April&quot;</td><td>72.1</td></tr><tr><td>&quot;CUSR0000SAA&quot;</td><td>1975</td><td>5</td><td>1975-05-01</td><td>&quot;May&quot;</td><td>72.2</td></tr><tr><td>&hellip;</td><td>&hellip;</td><td>&hellip;</td><td>&hellip;</td><td>&hellip;</td><td>&hellip;</td></tr><tr><td>&quot;CUUR0000SAA&quot;</td><td>2025</td><td>3</td><td>2025-03-01</td><td>&quot;March&quot;</td><td>134.082</td></tr><tr><td>&quot;CUUR0000SAA&quot;</td><td>2025</td><td>4</td><td>2025-04-01</td><td>&quot;April&quot;</td><td>132.544</td></tr><tr><td>&quot;CUUR0000SAA&quot;</td><td>2025</td><td>5</td><td>2025-05-01</td><td>&quot;May&quot;</td><td>131.223</td></tr><tr><td>&quot;CUUR0000SAA&quot;</td><td>2025</td><td>6</td><td>2025-06-01</td><td>&quot;June&quot;</td><td>130.844</td></tr><tr><td>&quot;CUUR0000SAA&quot;</td><td>2025</td><td>7</td><td>2025-07-01</td><td>&quot;July&quot;</td><td>129.19</td></tr></tbody></table></div>"
      ],
      "text/plain": [
       "shape: (1_214, 6)\n",
       "┌─────────────┬──────┬────────┬────────────┬───────────┬─────────┐\n",
       "│ series_id   ┆ year ┆ period ┆ date       ┆ MonthName ┆ value   │\n",
       "│ ---         ┆ ---  ┆ ---    ┆ ---        ┆ ---       ┆ ---     │\n",
       "│ str         ┆ i64  ┆ i8     ┆ date       ┆ str       ┆ f64     │\n",
       "╞═════════════╪══════╪════════╪════════════╪═══════════╪═════════╡\n",
       "│ CUSR0000SAA ┆ 1975 ┆ 1      ┆ 1975-01-01 ┆ January   ┆ 71.8    │\n",
       "│ CUSR0000SAA ┆ 1975 ┆ 2      ┆ 1975-02-01 ┆ February  ┆ 72.0    │\n",
       "│ CUSR0000SAA ┆ 1975 ┆ 3      ┆ 1975-03-01 ┆ March     ┆ 72.1    │\n",
       "│ CUSR0000SAA ┆ 1975 ┆ 4      ┆ 1975-04-01 ┆ April     ┆ 72.1    │\n",
       "│ CUSR0000SAA ┆ 1975 ┆ 5      ┆ 1975-05-01 ┆ May       ┆ 72.2    │\n",
       "│ …           ┆ …    ┆ …      ┆ …          ┆ …         ┆ …       │\n",
       "│ CUUR0000SAA ┆ 2025 ┆ 3      ┆ 2025-03-01 ┆ March     ┆ 134.082 │\n",
       "│ CUUR0000SAA ┆ 2025 ┆ 4      ┆ 2025-04-01 ┆ April     ┆ 132.544 │\n",
       "│ CUUR0000SAA ┆ 2025 ┆ 5      ┆ 2025-05-01 ┆ May       ┆ 131.223 │\n",
       "│ CUUR0000SAA ┆ 2025 ┆ 6      ┆ 2025-06-01 ┆ June      ┆ 130.844 │\n",
       "│ CUUR0000SAA ┆ 2025 ┆ 7      ┆ 2025-07-01 ┆ July      ┆ 129.19  │\n",
       "└─────────────┴──────┴────────┴────────────┴───────────┴─────────┘"
      ]
     },
     "execution_count": 22,
     "metadata": {},
     "output_type": "execute_result"
    }
   ],
   "source": [
    "df1 = df.filter(1==1) \\\n",
    "    .filter(\n",
    "        (pl.col('period').str.starts_with('S')==False)\n",
    "        & (pl.col('period') != 'M13')\n",
    "    ) \\\n",
    "    .with_columns(\n",
    "        pl.col('period').str.slice(-2).cast(pl.Int8)\n",
    "    ) \\\n",
    "    .with_columns(\n",
    "        pl.date(pl.col('year'), pl.col('period'), 1).alias('date'),\n",
    "    ) \\\n",
    "    .with_columns(\n",
    "        pl.col('date').dt.strftime(\"%B\").alias('MonthName'),\n",
    "        pl.col('period')#.cast(pl.String)\n",
    "    ) \\\n",
    "    .filter(\n",
    "        (1==1)\n",
    "        & (pl.col('date') >= pl.date(1975, 1, 1)) \n",
    "        & (pl.col('series_id').is_in(['CUUR0000SAA','CUSR0000SAA']))\n",
    "    ) \\\n",
    "    .group_by(['series_id', 'year', 'period', 'date', 'MonthName']) \\\n",
    "    .agg(pl.mean('value')) \\\n",
    "    .sort(['series_id', 'year', 'period']) \\\n",
    "    # .pivot(on='series_id', index=['year', 'period', 'date', 'MonthName'], values='value') \\\n",
    "    # .select(['year', 'period', 'date', 'MonthName', 'CUUR0000SAA', 'CUSR0000SAA'])\n",
    "\n",
    "df1"
   ]
  },
  {
   "cell_type": "code",
   "execution_count": null,
   "id": "3eb6c80d",
   "metadata": {},
   "outputs": [],
   "source": [
    "df1.apply"
   ]
  },
  {
   "cell_type": "code",
   "execution_count": 3,
   "id": "438c4ff9",
   "metadata": {},
   "outputs": [
    {
     "data": {
      "text/html": [
       "<div><style>\n",
       ".dataframe > thead > tr,\n",
       ".dataframe > tbody > tr {\n",
       "  text-align: right;\n",
       "  white-space: pre-wrap;\n",
       "}\n",
       "</style>\n",
       "<small>shape: (50, 6)</small><table border=\"1\" class=\"dataframe\"><thead><tr><th>year</th><th>period</th><th>date</th><th>MonthName</th><th>CUUR0000SAA</th><th>CUSR0000SAA</th></tr><tr><td>i64</td><td>i8</td><td>null</td><td>null</td><td>f64</td><td>f64</td></tr></thead><tbody><tr><td>1975</td><td>13</td><td>null</td><td>null</td><td>72.5</td><td>0.0</td></tr><tr><td>1976</td><td>13</td><td>null</td><td>null</td><td>75.2</td><td>0.0</td></tr><tr><td>1977</td><td>13</td><td>null</td><td>null</td><td>78.6</td><td>0.0</td></tr><tr><td>1978</td><td>13</td><td>null</td><td>null</td><td>81.4</td><td>0.0</td></tr><tr><td>1979</td><td>13</td><td>null</td><td>null</td><td>84.9</td><td>0.0</td></tr><tr><td>&hellip;</td><td>&hellip;</td><td>&hellip;</td><td>&hellip;</td><td>&hellip;</td><td>&hellip;</td></tr><tr><td>2020</td><td>13</td><td>null</td><td>null</td><td>118.079</td><td>0.0</td></tr><tr><td>2021</td><td>13</td><td>null</td><td>null</td><td>120.993</td><td>0.0</td></tr><tr><td>2022</td><td>13</td><td>null</td><td>null</td><td>127.081</td><td>0.0</td></tr><tr><td>2023</td><td>13</td><td>null</td><td>null</td><td>130.579</td><td>0.0</td></tr><tr><td>2024</td><td>13</td><td>null</td><td>null</td><td>131.483</td><td>0.0</td></tr></tbody></table></div>"
      ],
      "text/plain": [
       "shape: (50, 6)\n",
       "┌──────┬────────┬──────┬───────────┬─────────────┬─────────────┐\n",
       "│ year ┆ period ┆ date ┆ MonthName ┆ CUUR0000SAA ┆ CUSR0000SAA │\n",
       "│ ---  ┆ ---    ┆ ---  ┆ ---       ┆ ---         ┆ ---         │\n",
       "│ i64  ┆ i8     ┆ null ┆ null      ┆ f64         ┆ f64         │\n",
       "╞══════╪════════╪══════╪═══════════╪═════════════╪═════════════╡\n",
       "│ 1975 ┆ 13     ┆ null ┆ null      ┆ 72.5        ┆ 0.0         │\n",
       "│ 1976 ┆ 13     ┆ null ┆ null      ┆ 75.2        ┆ 0.0         │\n",
       "│ 1977 ┆ 13     ┆ null ┆ null      ┆ 78.6        ┆ 0.0         │\n",
       "│ 1978 ┆ 13     ┆ null ┆ null      ┆ 81.4        ┆ 0.0         │\n",
       "│ 1979 ┆ 13     ┆ null ┆ null      ┆ 84.9        ┆ 0.0         │\n",
       "│ …    ┆ …      ┆ …    ┆ …         ┆ …           ┆ …           │\n",
       "│ 2020 ┆ 13     ┆ null ┆ null      ┆ 118.079     ┆ 0.0         │\n",
       "│ 2021 ┆ 13     ┆ null ┆ null      ┆ 120.993     ┆ 0.0         │\n",
       "│ 2022 ┆ 13     ┆ null ┆ null      ┆ 127.081     ┆ 0.0         │\n",
       "│ 2023 ┆ 13     ┆ null ┆ null      ┆ 130.579     ┆ 0.0         │\n",
       "│ 2024 ┆ 13     ┆ null ┆ null      ┆ 131.483     ┆ 0.0         │\n",
       "└──────┴────────┴──────┴───────────┴─────────────┴─────────────┘"
      ]
     },
     "execution_count": 3,
     "metadata": {},
     "output_type": "execute_result"
    }
   ],
   "source": [
    "df2 = df.filter(1==1) \\\n",
    "    .filter(\n",
    "        (pl.col('period').str.starts_with('S')==False)\n",
    "        & (pl.col('period') == 'M13')\n",
    "    ) \\\n",
    "    .with_columns(\n",
    "        pl.col('period').str.slice(-2).cast(pl.Int8)\n",
    "    ) \\\n",
    "    .filter(\n",
    "        (pl.col('year') >= 1975)\n",
    "        & (pl.col('series_id').is_in(['CUUR0000SAA','CUSR0000SAA']))\n",
    "    ) \\\n",
    "    .with_columns(\n",
    "        (pl.col('value')*0).alias('CUSR0000SAA'),\n",
    "        pl.col('value').alias('CUUR0000SAA'),\n",
    "        # pl.col('period').replace_strict(13, 'Annual'),\n",
    "        pl.lit(None).alias('date'),\n",
    "        pl.lit(None).alias('MonthName'),\n",
    "    ) \\\n",
    "    .select(['year', 'period', 'date', 'MonthName', 'CUUR0000SAA', 'CUSR0000SAA'])\n",
    "    # .select(['year', 'period', 'CUUR0000SAA', 'CUSR0000SAA'])\n",
    "\n",
    "df2"
   ]
  },
  {
   "cell_type": "code",
   "execution_count": 6,
   "id": "c4de6cdb",
   "metadata": {},
   "outputs": [],
   "source": [
    "df3 = pl.concat([df1, df2])\n",
    "df3.columns = ['Year', 'MonthNum', 'M/YYYY', 'Month', 'Not Seasonally Adjusted', 'Seasonally Adjusted']\n",
    "df3 = df3.filter(1==1) \\\n",
    "    .sort(['Year', 'MonthNum']) \\\n",
    "    .with_columns(\n",
    "        pl.col('MonthNum').alias('Period'),\n",
    "        pl.col('M/YYYY').dt.strftime('%m-%Y'),\n",
    "        pl.col('MonthNum').cast(pl.String).replace({'13': 'Annual'})\n",
    "\n",
    "    )"
   ]
  },
  {
   "cell_type": "code",
   "execution_count": 21,
   "id": "f13dec87",
   "metadata": {},
   "outputs": [
    {
     "data": {
      "text/html": [
       "<div><style>\n",
       ".dataframe > thead > tr,\n",
       ".dataframe > tbody > tr {\n",
       "  text-align: right;\n",
       "  white-space: pre-wrap;\n",
       "}\n",
       "</style>\n",
       "<small>shape: (1, 1)</small><table border=\"1\" class=\"dataframe\"><thead><tr><th>Not Seasonally Adjusted</th></tr><tr><td>f64</td></tr></thead><tbody><tr><td>72.523077</td></tr></tbody></table></div>"
      ],
      "text/plain": [
       "shape: (1, 1)\n",
       "┌─────────────────────────┐\n",
       "│ Not Seasonally Adjusted │\n",
       "│ ---                     │\n",
       "│ f64                     │\n",
       "╞═════════════════════════╡\n",
       "│ 72.523077               │\n",
       "└─────────────────────────┘"
      ]
     },
     "execution_count": 21,
     "metadata": {},
     "output_type": "execute_result"
    }
   ],
   "source": [
    "df3.filter(1==1) \\\n",
    "    .filter(pl.col('Year')==1975) \\\n",
    "    .select('Not Seasonally Adjusted') \\\n",
    "    .mean()\n",
    "    # .sum('Not Seasonally Adjusted')"
   ]
  },
  {
   "cell_type": "code",
   "execution_count": null,
   "id": "88118dcf",
   "metadata": {},
   "outputs": [],
   "source": []
  },
  {
   "cell_type": "code",
   "execution_count": null,
   "id": "f2a86447",
   "metadata": {},
   "outputs": [],
   "source": []
  },
  {
   "cell_type": "code",
   "execution_count": null,
   "id": "4233865b",
   "metadata": {},
   "outputs": [],
   "source": []
  },
  {
   "cell_type": "code",
   "execution_count": null,
   "id": "36e48f26",
   "metadata": {},
   "outputs": [],
   "source": []
  },
  {
   "cell_type": "code",
   "execution_count": null,
   "id": "2d99d18d",
   "metadata": {},
   "outputs": [],
   "source": []
  },
  {
   "cell_type": "code",
   "execution_count": null,
   "id": "09a3e992",
   "metadata": {},
   "outputs": [],
   "source": []
  }
 ],
 "metadata": {
  "kernelspec": {
   "display_name": "index-bls",
   "language": "python",
   "name": "python3"
  },
  "language_info": {
   "codemirror_mode": {
    "name": "ipython",
    "version": 3
   },
   "file_extension": ".py",
   "mimetype": "text/x-python",
   "name": "python",
   "nbconvert_exporter": "python",
   "pygments_lexer": "ipython3",
   "version": "3.12.11"
  }
 },
 "nbformat": 4,
 "nbformat_minor": 5
}
